{
  "nbformat": 4,
  "nbformat_minor": 0,
  "metadata": {
    "colab": {
      "provenance": []
    },
    "kernelspec": {
      "name": "python3",
      "display_name": "Python 3"
    },
    "language_info": {
      "name": "python"
    }
  },
  "cells": [
    {
      "cell_type": "code",
      "execution_count": 1,
      "metadata": {
        "id": "jOdE74FW2FtY"
      },
      "outputs": [],
      "source": [
        "import pandas as pd\n",
        "import numpy as np\n",
        "import matplotlib.pyplot as plt\n",
        "import seaborn as sns\n",
        "import warnings\n",
        "warnings.filterwarnings('ignore')"
      ]
    },
    {
      "cell_type": "markdown",
      "source": [
        "# Step 1: Load the Dataset \"Financial_Transactions.csv\" into a pandas DataFrame."
      ],
      "metadata": {
        "id": "yk2NU_cL2dvw"
      }
    },
    {
      "cell_type": "code",
      "source": [
        "try:\n",
        "    df = pd.read_csv('/content/sample_data/Financial_Transactions.csv')\n",
        "    display(df.head())\n",
        "except FileNotFoundError:\n",
        "    print(\"Error: 'KreditPe_Transactions.csv' not found. Please ensure the file exists in the current directory or provide the correct path.\")\n",
        "except pd.errors.ParserError:\n",
        "    print(\"Error: Could not parse the CSV file. Please check the file format.\")\n",
        "except Exception as e:\n",
        "    print(f\"An unexpected error occurred: {e}\")"
      ],
      "metadata": {
        "colab": {
          "base_uri": "https://localhost:8080/",
          "height": 244
        },
        "id": "6ZThbhL42ZOW",
        "outputId": "d9212a5b-d642-4f7b-ec5d-680d251a64ab"
      },
      "execution_count": 10,
      "outputs": [
        {
          "output_type": "display_data",
          "data": {
            "text/plain": [
              "   Gender  Age  User_ID Transaction_ID  Transaction_Amount Transaction_Date  \\\n",
              "0    Male   30     1011          T6837                1339       17-03-2025   \n",
              "1    Male   21     1023          T2546                1253       05-03-2025   \n",
              "2  Female   26     1059          T9509                 837       01-03-2025   \n",
              "3    Male   38     1089          T6364                3148       17-03-2025   \n",
              "4  Female   56     1045          T8705                3872       14-03-2025   \n",
              "\n",
              "  Transaction_Time    Merchant Payment_Method Cashback_Applied  Credit_Score  \\\n",
              "0         03:04:25    Flipkart    Credit Card              Yes           572   \n",
              "1         06:59:01      Zomato            UPI              Yes           733   \n",
              "2         15:43:52  Paytm Mall            UPI               No           585   \n",
              "3         06:49:08         OLA            UPI               No           722   \n",
              "4         17:13:08   BigBasket            UPI              Yes           787   \n",
              "\n",
              "  Loan_Approval  User_Engagement_Score Fraud_Flag  Cashback_Received  \n",
              "0      Rejected                     50         No              26.78  \n",
              "1      Approved                     91         No              12.53  \n",
              "2      Rejected                     86         No               8.37  \n",
              "3      Approved                     51         No              31.48  \n",
              "4      Approved                     67         No              38.72  "
            ],
            "text/html": [
              "\n",
              "  <div id=\"df-17d2ddca-3410-44a0-b127-7fd228e74461\" class=\"colab-df-container\">\n",
              "    <div>\n",
              "<style scoped>\n",
              "    .dataframe tbody tr th:only-of-type {\n",
              "        vertical-align: middle;\n",
              "    }\n",
              "\n",
              "    .dataframe tbody tr th {\n",
              "        vertical-align: top;\n",
              "    }\n",
              "\n",
              "    .dataframe thead th {\n",
              "        text-align: right;\n",
              "    }\n",
              "</style>\n",
              "<table border=\"1\" class=\"dataframe\">\n",
              "  <thead>\n",
              "    <tr style=\"text-align: right;\">\n",
              "      <th></th>\n",
              "      <th>Gender</th>\n",
              "      <th>Age</th>\n",
              "      <th>User_ID</th>\n",
              "      <th>Transaction_ID</th>\n",
              "      <th>Transaction_Amount</th>\n",
              "      <th>Transaction_Date</th>\n",
              "      <th>Transaction_Time</th>\n",
              "      <th>Merchant</th>\n",
              "      <th>Payment_Method</th>\n",
              "      <th>Cashback_Applied</th>\n",
              "      <th>Credit_Score</th>\n",
              "      <th>Loan_Approval</th>\n",
              "      <th>User_Engagement_Score</th>\n",
              "      <th>Fraud_Flag</th>\n",
              "      <th>Cashback_Received</th>\n",
              "    </tr>\n",
              "  </thead>\n",
              "  <tbody>\n",
              "    <tr>\n",
              "      <th>0</th>\n",
              "      <td>Male</td>\n",
              "      <td>30</td>\n",
              "      <td>1011</td>\n",
              "      <td>T6837</td>\n",
              "      <td>1339</td>\n",
              "      <td>17-03-2025</td>\n",
              "      <td>03:04:25</td>\n",
              "      <td>Flipkart</td>\n",
              "      <td>Credit Card</td>\n",
              "      <td>Yes</td>\n",
              "      <td>572</td>\n",
              "      <td>Rejected</td>\n",
              "      <td>50</td>\n",
              "      <td>No</td>\n",
              "      <td>26.78</td>\n",
              "    </tr>\n",
              "    <tr>\n",
              "      <th>1</th>\n",
              "      <td>Male</td>\n",
              "      <td>21</td>\n",
              "      <td>1023</td>\n",
              "      <td>T2546</td>\n",
              "      <td>1253</td>\n",
              "      <td>05-03-2025</td>\n",
              "      <td>06:59:01</td>\n",
              "      <td>Zomato</td>\n",
              "      <td>UPI</td>\n",
              "      <td>Yes</td>\n",
              "      <td>733</td>\n",
              "      <td>Approved</td>\n",
              "      <td>91</td>\n",
              "      <td>No</td>\n",
              "      <td>12.53</td>\n",
              "    </tr>\n",
              "    <tr>\n",
              "      <th>2</th>\n",
              "      <td>Female</td>\n",
              "      <td>26</td>\n",
              "      <td>1059</td>\n",
              "      <td>T9509</td>\n",
              "      <td>837</td>\n",
              "      <td>01-03-2025</td>\n",
              "      <td>15:43:52</td>\n",
              "      <td>Paytm Mall</td>\n",
              "      <td>UPI</td>\n",
              "      <td>No</td>\n",
              "      <td>585</td>\n",
              "      <td>Rejected</td>\n",
              "      <td>86</td>\n",
              "      <td>No</td>\n",
              "      <td>8.37</td>\n",
              "    </tr>\n",
              "    <tr>\n",
              "      <th>3</th>\n",
              "      <td>Male</td>\n",
              "      <td>38</td>\n",
              "      <td>1089</td>\n",
              "      <td>T6364</td>\n",
              "      <td>3148</td>\n",
              "      <td>17-03-2025</td>\n",
              "      <td>06:49:08</td>\n",
              "      <td>OLA</td>\n",
              "      <td>UPI</td>\n",
              "      <td>No</td>\n",
              "      <td>722</td>\n",
              "      <td>Approved</td>\n",
              "      <td>51</td>\n",
              "      <td>No</td>\n",
              "      <td>31.48</td>\n",
              "    </tr>\n",
              "    <tr>\n",
              "      <th>4</th>\n",
              "      <td>Female</td>\n",
              "      <td>56</td>\n",
              "      <td>1045</td>\n",
              "      <td>T8705</td>\n",
              "      <td>3872</td>\n",
              "      <td>14-03-2025</td>\n",
              "      <td>17:13:08</td>\n",
              "      <td>BigBasket</td>\n",
              "      <td>UPI</td>\n",
              "      <td>Yes</td>\n",
              "      <td>787</td>\n",
              "      <td>Approved</td>\n",
              "      <td>67</td>\n",
              "      <td>No</td>\n",
              "      <td>38.72</td>\n",
              "    </tr>\n",
              "  </tbody>\n",
              "</table>\n",
              "</div>\n",
              "    <div class=\"colab-df-buttons\">\n",
              "\n",
              "  <div class=\"colab-df-container\">\n",
              "    <button class=\"colab-df-convert\" onclick=\"convertToInteractive('df-17d2ddca-3410-44a0-b127-7fd228e74461')\"\n",
              "            title=\"Convert this dataframe to an interactive table.\"\n",
              "            style=\"display:none;\">\n",
              "\n",
              "  <svg xmlns=\"http://www.w3.org/2000/svg\" height=\"24px\" viewBox=\"0 -960 960 960\">\n",
              "    <path d=\"M120-120v-720h720v720H120Zm60-500h600v-160H180v160Zm220 220h160v-160H400v160Zm0 220h160v-160H400v160ZM180-400h160v-160H180v160Zm440 0h160v-160H620v160ZM180-180h160v-160H180v160Zm440 0h160v-160H620v160Z\"/>\n",
              "  </svg>\n",
              "    </button>\n",
              "\n",
              "  <style>\n",
              "    .colab-df-container {\n",
              "      display:flex;\n",
              "      gap: 12px;\n",
              "    }\n",
              "\n",
              "    .colab-df-convert {\n",
              "      background-color: #E8F0FE;\n",
              "      border: none;\n",
              "      border-radius: 50%;\n",
              "      cursor: pointer;\n",
              "      display: none;\n",
              "      fill: #1967D2;\n",
              "      height: 32px;\n",
              "      padding: 0 0 0 0;\n",
              "      width: 32px;\n",
              "    }\n",
              "\n",
              "    .colab-df-convert:hover {\n",
              "      background-color: #E2EBFA;\n",
              "      box-shadow: 0px 1px 2px rgba(60, 64, 67, 0.3), 0px 1px 3px 1px rgba(60, 64, 67, 0.15);\n",
              "      fill: #174EA6;\n",
              "    }\n",
              "\n",
              "    .colab-df-buttons div {\n",
              "      margin-bottom: 4px;\n",
              "    }\n",
              "\n",
              "    [theme=dark] .colab-df-convert {\n",
              "      background-color: #3B4455;\n",
              "      fill: #D2E3FC;\n",
              "    }\n",
              "\n",
              "    [theme=dark] .colab-df-convert:hover {\n",
              "      background-color: #434B5C;\n",
              "      box-shadow: 0px 1px 3px 1px rgba(0, 0, 0, 0.15);\n",
              "      filter: drop-shadow(0px 1px 2px rgba(0, 0, 0, 0.3));\n",
              "      fill: #FFFFFF;\n",
              "    }\n",
              "  </style>\n",
              "\n",
              "    <script>\n",
              "      const buttonEl =\n",
              "        document.querySelector('#df-17d2ddca-3410-44a0-b127-7fd228e74461 button.colab-df-convert');\n",
              "      buttonEl.style.display =\n",
              "        google.colab.kernel.accessAllowed ? 'block' : 'none';\n",
              "\n",
              "      async function convertToInteractive(key) {\n",
              "        const element = document.querySelector('#df-17d2ddca-3410-44a0-b127-7fd228e74461');\n",
              "        const dataTable =\n",
              "          await google.colab.kernel.invokeFunction('convertToInteractive',\n",
              "                                                    [key], {});\n",
              "        if (!dataTable) return;\n",
              "\n",
              "        const docLinkHtml = 'Like what you see? Visit the ' +\n",
              "          '<a target=\"_blank\" href=https://colab.research.google.com/notebooks/data_table.ipynb>data table notebook</a>'\n",
              "          + ' to learn more about interactive tables.';\n",
              "        element.innerHTML = '';\n",
              "        dataTable['output_type'] = 'display_data';\n",
              "        await google.colab.output.renderOutput(dataTable, element);\n",
              "        const docLink = document.createElement('div');\n",
              "        docLink.innerHTML = docLinkHtml;\n",
              "        element.appendChild(docLink);\n",
              "      }\n",
              "    </script>\n",
              "  </div>\n",
              "\n",
              "\n",
              "<div id=\"df-431590b5-6ea0-409b-a3e7-decd0793893a\">\n",
              "  <button class=\"colab-df-quickchart\" onclick=\"quickchart('df-431590b5-6ea0-409b-a3e7-decd0793893a')\"\n",
              "            title=\"Suggest charts\"\n",
              "            style=\"display:none;\">\n",
              "\n",
              "<svg xmlns=\"http://www.w3.org/2000/svg\" height=\"24px\"viewBox=\"0 0 24 24\"\n",
              "     width=\"24px\">\n",
              "    <g>\n",
              "        <path d=\"M19 3H5c-1.1 0-2 .9-2 2v14c0 1.1.9 2 2 2h14c1.1 0 2-.9 2-2V5c0-1.1-.9-2-2-2zM9 17H7v-7h2v7zm4 0h-2V7h2v10zm4 0h-2v-4h2v4z\"/>\n",
              "    </g>\n",
              "</svg>\n",
              "  </button>\n",
              "\n",
              "<style>\n",
              "  .colab-df-quickchart {\n",
              "      --bg-color: #E8F0FE;\n",
              "      --fill-color: #1967D2;\n",
              "      --hover-bg-color: #E2EBFA;\n",
              "      --hover-fill-color: #174EA6;\n",
              "      --disabled-fill-color: #AAA;\n",
              "      --disabled-bg-color: #DDD;\n",
              "  }\n",
              "\n",
              "  [theme=dark] .colab-df-quickchart {\n",
              "      --bg-color: #3B4455;\n",
              "      --fill-color: #D2E3FC;\n",
              "      --hover-bg-color: #434B5C;\n",
              "      --hover-fill-color: #FFFFFF;\n",
              "      --disabled-bg-color: #3B4455;\n",
              "      --disabled-fill-color: #666;\n",
              "  }\n",
              "\n",
              "  .colab-df-quickchart {\n",
              "    background-color: var(--bg-color);\n",
              "    border: none;\n",
              "    border-radius: 50%;\n",
              "    cursor: pointer;\n",
              "    display: none;\n",
              "    fill: var(--fill-color);\n",
              "    height: 32px;\n",
              "    padding: 0;\n",
              "    width: 32px;\n",
              "  }\n",
              "\n",
              "  .colab-df-quickchart:hover {\n",
              "    background-color: var(--hover-bg-color);\n",
              "    box-shadow: 0 1px 2px rgba(60, 64, 67, 0.3), 0 1px 3px 1px rgba(60, 64, 67, 0.15);\n",
              "    fill: var(--button-hover-fill-color);\n",
              "  }\n",
              "\n",
              "  .colab-df-quickchart-complete:disabled,\n",
              "  .colab-df-quickchart-complete:disabled:hover {\n",
              "    background-color: var(--disabled-bg-color);\n",
              "    fill: var(--disabled-fill-color);\n",
              "    box-shadow: none;\n",
              "  }\n",
              "\n",
              "  .colab-df-spinner {\n",
              "    border: 2px solid var(--fill-color);\n",
              "    border-color: transparent;\n",
              "    border-bottom-color: var(--fill-color);\n",
              "    animation:\n",
              "      spin 1s steps(1) infinite;\n",
              "  }\n",
              "\n",
              "  @keyframes spin {\n",
              "    0% {\n",
              "      border-color: transparent;\n",
              "      border-bottom-color: var(--fill-color);\n",
              "      border-left-color: var(--fill-color);\n",
              "    }\n",
              "    20% {\n",
              "      border-color: transparent;\n",
              "      border-left-color: var(--fill-color);\n",
              "      border-top-color: var(--fill-color);\n",
              "    }\n",
              "    30% {\n",
              "      border-color: transparent;\n",
              "      border-left-color: var(--fill-color);\n",
              "      border-top-color: var(--fill-color);\n",
              "      border-right-color: var(--fill-color);\n",
              "    }\n",
              "    40% {\n",
              "      border-color: transparent;\n",
              "      border-right-color: var(--fill-color);\n",
              "      border-top-color: var(--fill-color);\n",
              "    }\n",
              "    60% {\n",
              "      border-color: transparent;\n",
              "      border-right-color: var(--fill-color);\n",
              "    }\n",
              "    80% {\n",
              "      border-color: transparent;\n",
              "      border-right-color: var(--fill-color);\n",
              "      border-bottom-color: var(--fill-color);\n",
              "    }\n",
              "    90% {\n",
              "      border-color: transparent;\n",
              "      border-bottom-color: var(--fill-color);\n",
              "    }\n",
              "  }\n",
              "</style>\n",
              "\n",
              "  <script>\n",
              "    async function quickchart(key) {\n",
              "      const quickchartButtonEl =\n",
              "        document.querySelector('#' + key + ' button');\n",
              "      quickchartButtonEl.disabled = true;  // To prevent multiple clicks.\n",
              "      quickchartButtonEl.classList.add('colab-df-spinner');\n",
              "      try {\n",
              "        const charts = await google.colab.kernel.invokeFunction(\n",
              "            'suggestCharts', [key], {});\n",
              "      } catch (error) {\n",
              "        console.error('Error during call to suggestCharts:', error);\n",
              "      }\n",
              "      quickchartButtonEl.classList.remove('colab-df-spinner');\n",
              "      quickchartButtonEl.classList.add('colab-df-quickchart-complete');\n",
              "    }\n",
              "    (() => {\n",
              "      let quickchartButtonEl =\n",
              "        document.querySelector('#df-431590b5-6ea0-409b-a3e7-decd0793893a button');\n",
              "      quickchartButtonEl.style.display =\n",
              "        google.colab.kernel.accessAllowed ? 'block' : 'none';\n",
              "    })();\n",
              "  </script>\n",
              "</div>\n",
              "\n",
              "    </div>\n",
              "  </div>\n"
            ],
            "application/vnd.google.colaboratory.intrinsic+json": {
              "type": "dataframe",
              "summary": "{\n  \"name\": \"    print(f\\\"An unexpected error occurred: {e}\\\")\",\n  \"rows\": 5,\n  \"fields\": [\n    {\n      \"column\": \"Gender\",\n      \"properties\": {\n        \"dtype\": \"category\",\n        \"num_unique_values\": 2,\n        \"samples\": [\n          \"Female\",\n          \"Male\"\n        ],\n        \"semantic_type\": \"\",\n        \"description\": \"\"\n      }\n    },\n    {\n      \"column\": \"Age\",\n      \"properties\": {\n        \"dtype\": \"number\",\n        \"std\": 13,\n        \"min\": 21,\n        \"max\": 56,\n        \"num_unique_values\": 5,\n        \"samples\": [\n          21,\n          56\n        ],\n        \"semantic_type\": \"\",\n        \"description\": \"\"\n      }\n    },\n    {\n      \"column\": \"User_ID\",\n      \"properties\": {\n        \"dtype\": \"number\",\n        \"std\": 30,\n        \"min\": 1011,\n        \"max\": 1089,\n        \"num_unique_values\": 5,\n        \"samples\": [\n          1023,\n          1045\n        ],\n        \"semantic_type\": \"\",\n        \"description\": \"\"\n      }\n    },\n    {\n      \"column\": \"Transaction_ID\",\n      \"properties\": {\n        \"dtype\": \"string\",\n        \"num_unique_values\": 5,\n        \"samples\": [\n          \"T2546\",\n          \"T8705\"\n        ],\n        \"semantic_type\": \"\",\n        \"description\": \"\"\n      }\n    },\n    {\n      \"column\": \"Transaction_Amount\",\n      \"properties\": {\n        \"dtype\": \"number\",\n        \"std\": 1335,\n        \"min\": 837,\n        \"max\": 3872,\n        \"num_unique_values\": 5,\n        \"samples\": [\n          1253,\n          3872\n        ],\n        \"semantic_type\": \"\",\n        \"description\": \"\"\n      }\n    },\n    {\n      \"column\": \"Transaction_Date\",\n      \"properties\": {\n        \"dtype\": \"object\",\n        \"num_unique_values\": 4,\n        \"samples\": [\n          \"05-03-2025\",\n          \"14-03-2025\"\n        ],\n        \"semantic_type\": \"\",\n        \"description\": \"\"\n      }\n    },\n    {\n      \"column\": \"Transaction_Time\",\n      \"properties\": {\n        \"dtype\": \"object\",\n        \"num_unique_values\": 5,\n        \"samples\": [\n          \"06:59:01\",\n          \"17:13:08\"\n        ],\n        \"semantic_type\": \"\",\n        \"description\": \"\"\n      }\n    },\n    {\n      \"column\": \"Merchant\",\n      \"properties\": {\n        \"dtype\": \"string\",\n        \"num_unique_values\": 5,\n        \"samples\": [\n          \"Zomato\",\n          \"BigBasket\"\n        ],\n        \"semantic_type\": \"\",\n        \"description\": \"\"\n      }\n    },\n    {\n      \"column\": \"Payment_Method\",\n      \"properties\": {\n        \"dtype\": \"category\",\n        \"num_unique_values\": 2,\n        \"samples\": [\n          \"UPI\",\n          \"Credit Card\"\n        ],\n        \"semantic_type\": \"\",\n        \"description\": \"\"\n      }\n    },\n    {\n      \"column\": \"Cashback_Applied\",\n      \"properties\": {\n        \"dtype\": \"category\",\n        \"num_unique_values\": 2,\n        \"samples\": [\n          \"No\",\n          \"Yes\"\n        ],\n        \"semantic_type\": \"\",\n        \"description\": \"\"\n      }\n    },\n    {\n      \"column\": \"Credit_Score\",\n      \"properties\": {\n        \"dtype\": \"number\",\n        \"std\": 95,\n        \"min\": 572,\n        \"max\": 787,\n        \"num_unique_values\": 5,\n        \"samples\": [\n          733,\n          787\n        ],\n        \"semantic_type\": \"\",\n        \"description\": \"\"\n      }\n    },\n    {\n      \"column\": \"Loan_Approval\",\n      \"properties\": {\n        \"dtype\": \"category\",\n        \"num_unique_values\": 2,\n        \"samples\": [\n          \"Approved\",\n          \"Rejected\"\n        ],\n        \"semantic_type\": \"\",\n        \"description\": \"\"\n      }\n    },\n    {\n      \"column\": \"User_Engagement_Score\",\n      \"properties\": {\n        \"dtype\": \"number\",\n        \"std\": 19,\n        \"min\": 50,\n        \"max\": 91,\n        \"num_unique_values\": 5,\n        \"samples\": [\n          91,\n          67\n        ],\n        \"semantic_type\": \"\",\n        \"description\": \"\"\n      }\n    },\n    {\n      \"column\": \"Fraud_Flag\",\n      \"properties\": {\n        \"dtype\": \"category\",\n        \"num_unique_values\": 1,\n        \"samples\": [\n          \"No\"\n        ],\n        \"semantic_type\": \"\",\n        \"description\": \"\"\n      }\n    },\n    {\n      \"column\": \"Cashback_Received\",\n      \"properties\": {\n        \"dtype\": \"number\",\n        \"std\": 12.799571477201884,\n        \"min\": 8.37,\n        \"max\": 38.72,\n        \"num_unique_values\": 5,\n        \"samples\": [\n          12.53\n        ],\n        \"semantic_type\": \"\",\n        \"description\": \"\"\n      }\n    }\n  ]\n}"
            }
          },
          "metadata": {}
        }
      ]
    },
    {
      "cell_type": "code",
      "source": [],
      "metadata": {
        "id": "gXAKXGFH-6qK"
      },
      "execution_count": null,
      "outputs": []
    },
    {
      "cell_type": "markdown",
      "source": [
        "# Step 2: Data Cleaning & Preprocessing"
      ],
      "metadata": {
        "id": "a8HqktvR2mBD"
      }
    },
    {
      "cell_type": "code",
      "source": [
        "# Check for missing values\n",
        "print(df.isnull().sum())"
      ],
      "metadata": {
        "colab": {
          "base_uri": "https://localhost:8080/"
        },
        "id": "xUlkMidL2lrM",
        "outputId": "3c194fcc-28b2-4033-9945-7b5d30357f8b"
      },
      "execution_count": 11,
      "outputs": [
        {
          "output_type": "stream",
          "name": "stdout",
          "text": [
            "Gender                   0\n",
            "Age                      0\n",
            "User_ID                  0\n",
            "Transaction_ID           0\n",
            "Transaction_Amount       0\n",
            "Transaction_Date         0\n",
            "Transaction_Time         0\n",
            "Merchant                 0\n",
            "Payment_Method           0\n",
            "Cashback_Applied         0\n",
            "Credit_Score             0\n",
            "Loan_Approval            0\n",
            "User_Engagement_Score    0\n",
            "Fraud_Flag               0\n",
            "Cashback_Received        0\n",
            "dtype: int64\n"
          ]
        }
      ]
    },
    {
      "cell_type": "code",
      "source": [
        "df.info()"
      ],
      "metadata": {
        "colab": {
          "base_uri": "https://localhost:8080/"
        },
        "id": "slXSu7JB2xou",
        "outputId": "9550b8d8-11e9-4116-92e1-2e709450cfcd"
      },
      "execution_count": 12,
      "outputs": [
        {
          "output_type": "stream",
          "name": "stdout",
          "text": [
            "<class 'pandas.core.frame.DataFrame'>\n",
            "RangeIndex: 500 entries, 0 to 499\n",
            "Data columns (total 15 columns):\n",
            " #   Column                 Non-Null Count  Dtype  \n",
            "---  ------                 --------------  -----  \n",
            " 0   Gender                 500 non-null    object \n",
            " 1   Age                    500 non-null    int64  \n",
            " 2   User_ID                500 non-null    int64  \n",
            " 3   Transaction_ID         500 non-null    object \n",
            " 4   Transaction_Amount     500 non-null    int64  \n",
            " 5   Transaction_Date       500 non-null    object \n",
            " 6   Transaction_Time       500 non-null    object \n",
            " 7   Merchant               500 non-null    object \n",
            " 8   Payment_Method         500 non-null    object \n",
            " 9   Cashback_Applied       500 non-null    object \n",
            " 10  Credit_Score           500 non-null    int64  \n",
            " 11  Loan_Approval          500 non-null    object \n",
            " 12  User_Engagement_Score  500 non-null    int64  \n",
            " 13  Fraud_Flag             500 non-null    object \n",
            " 14  Cashback_Received      500 non-null    float64\n",
            "dtypes: float64(1), int64(5), object(9)\n",
            "memory usage: 58.7+ KB\n"
          ]
        }
      ]
    },
    {
      "cell_type": "code",
      "source": [
        "# Convert categorical features to categorical data type\n",
        "categorical_features = ['Transaction_ID', 'Payment_Method', 'Merchant','Gender']\n",
        "for feature in categorical_features:\n",
        "    df[feature] = pd.Categorical(df[feature])"
      ],
      "metadata": {
        "id": "PoV2ITOJ29fM"
      },
      "execution_count": 13,
      "outputs": []
    },
    {
      "cell_type": "code",
      "source": [
        "# Ensure numerical columns are in the correct format to prevent errors in calculation\n",
        "# Allows numeric operations like mean(), median(), and std()\n",
        "\n",
        "df['Transaction_Amount'] = df['Transaction_Amount'].astype(float)"
      ],
      "metadata": {
        "id": "2SEap6Oj2-A8"
      },
      "execution_count": 14,
      "outputs": []
    },
    {
      "cell_type": "code",
      "source": [
        "# Convert boolean features to boolean data type\n",
        "df['Cashback_Applied'] = df['Cashback_Applied'].map({'Yes': True, 'No': False})\n",
        "df['Loan_Approval'] = df['Loan_Approval'].map({'Approved': True, 'Rejected': False})\n",
        "df['Fraud_Flag'] = df['Fraud_Flag'].map({'Yes': True, 'No': False})"
      ],
      "metadata": {
        "id": "RdNQd-w43AUQ"
      },
      "execution_count": 15,
      "outputs": []
    },
    {
      "cell_type": "code",
      "source": [
        "# Display data types after conversion\n",
        "df.info()"
      ],
      "metadata": {
        "colab": {
          "base_uri": "https://localhost:8080/"
        },
        "id": "CaZkMzw23C2Y",
        "outputId": "de68ec08-05e5-4382-ace9-4c71a4d15ae0"
      },
      "execution_count": 16,
      "outputs": [
        {
          "output_type": "stream",
          "name": "stdout",
          "text": [
            "<class 'pandas.core.frame.DataFrame'>\n",
            "RangeIndex: 500 entries, 0 to 499\n",
            "Data columns (total 15 columns):\n",
            " #   Column                 Non-Null Count  Dtype   \n",
            "---  ------                 --------------  -----   \n",
            " 0   Gender                 500 non-null    category\n",
            " 1   Age                    500 non-null    int64   \n",
            " 2   User_ID                500 non-null    int64   \n",
            " 3   Transaction_ID         500 non-null    category\n",
            " 4   Transaction_Amount     500 non-null    float64 \n",
            " 5   Transaction_Date       500 non-null    object  \n",
            " 6   Transaction_Time       500 non-null    object  \n",
            " 7   Merchant               500 non-null    category\n",
            " 8   Payment_Method         500 non-null    category\n",
            " 9   Cashback_Applied       500 non-null    bool    \n",
            " 10  Credit_Score           500 non-null    int64   \n",
            " 11  Loan_Approval          500 non-null    bool    \n",
            " 12  User_Engagement_Score  500 non-null    int64   \n",
            " 13  Fraud_Flag             500 non-null    bool    \n",
            " 14  Cashback_Received      500 non-null    float64 \n",
            "dtypes: bool(3), category(4), float64(2), int64(4), object(2)\n",
            "memory usage: 55.9+ KB\n"
          ]
        }
      ]
    },
    {
      "cell_type": "markdown",
      "source": [
        "## Checking for duplicate transactions"
      ],
      "metadata": {
        "id": "5OI-qG_iHL7C"
      }
    },
    {
      "cell_type": "code",
      "source": [
        "# Define columns to check for duplicates\n",
        "duplicate_cols = ['User_ID', 'Transaction_Amount', 'Merchant', 'Transaction_Date']\n",
        "\n",
        "# Find duplicates based on selected columns\n",
        "possible_duplicates = df[df.duplicated(subset=duplicate_cols, keep=False)]\n",
        "\n",
        "# Check if any duplicates were found\n",
        "if possible_duplicates.empty:\n",
        "    # If no duplicates, create a DataFrame with 'null'\n",
        "    result_df = pd.DataFrame([{'Result': 'null'}])\n",
        "else:\n",
        "    # If duplicates found, assign possible_duplicates to result_df\n",
        "    result_df = possible_duplicates\n",
        "\n",
        "# Display the result\n",
        "display(result_df)"
      ],
      "metadata": {
        "colab": {
          "base_uri": "https://localhost:8080/",
          "height": 89
        },
        "id": "yU4lHMuUGnxI",
        "outputId": "18739f9e-ac4d-4e31-9f02-db2faa497b09"
      },
      "execution_count": 17,
      "outputs": [
        {
          "output_type": "display_data",
          "data": {
            "text/plain": [
              "  Result\n",
              "0   null"
            ],
            "text/html": [
              "\n",
              "  <div id=\"df-44c7b452-dbcb-46c4-958d-7cb789b90364\" class=\"colab-df-container\">\n",
              "    <div>\n",
              "<style scoped>\n",
              "    .dataframe tbody tr th:only-of-type {\n",
              "        vertical-align: middle;\n",
              "    }\n",
              "\n",
              "    .dataframe tbody tr th {\n",
              "        vertical-align: top;\n",
              "    }\n",
              "\n",
              "    .dataframe thead th {\n",
              "        text-align: right;\n",
              "    }\n",
              "</style>\n",
              "<table border=\"1\" class=\"dataframe\">\n",
              "  <thead>\n",
              "    <tr style=\"text-align: right;\">\n",
              "      <th></th>\n",
              "      <th>Result</th>\n",
              "    </tr>\n",
              "  </thead>\n",
              "  <tbody>\n",
              "    <tr>\n",
              "      <th>0</th>\n",
              "      <td>null</td>\n",
              "    </tr>\n",
              "  </tbody>\n",
              "</table>\n",
              "</div>\n",
              "    <div class=\"colab-df-buttons\">\n",
              "\n",
              "  <div class=\"colab-df-container\">\n",
              "    <button class=\"colab-df-convert\" onclick=\"convertToInteractive('df-44c7b452-dbcb-46c4-958d-7cb789b90364')\"\n",
              "            title=\"Convert this dataframe to an interactive table.\"\n",
              "            style=\"display:none;\">\n",
              "\n",
              "  <svg xmlns=\"http://www.w3.org/2000/svg\" height=\"24px\" viewBox=\"0 -960 960 960\">\n",
              "    <path d=\"M120-120v-720h720v720H120Zm60-500h600v-160H180v160Zm220 220h160v-160H400v160Zm0 220h160v-160H400v160ZM180-400h160v-160H180v160Zm440 0h160v-160H620v160ZM180-180h160v-160H180v160Zm440 0h160v-160H620v160Z\"/>\n",
              "  </svg>\n",
              "    </button>\n",
              "\n",
              "  <style>\n",
              "    .colab-df-container {\n",
              "      display:flex;\n",
              "      gap: 12px;\n",
              "    }\n",
              "\n",
              "    .colab-df-convert {\n",
              "      background-color: #E8F0FE;\n",
              "      border: none;\n",
              "      border-radius: 50%;\n",
              "      cursor: pointer;\n",
              "      display: none;\n",
              "      fill: #1967D2;\n",
              "      height: 32px;\n",
              "      padding: 0 0 0 0;\n",
              "      width: 32px;\n",
              "    }\n",
              "\n",
              "    .colab-df-convert:hover {\n",
              "      background-color: #E2EBFA;\n",
              "      box-shadow: 0px 1px 2px rgba(60, 64, 67, 0.3), 0px 1px 3px 1px rgba(60, 64, 67, 0.15);\n",
              "      fill: #174EA6;\n",
              "    }\n",
              "\n",
              "    .colab-df-buttons div {\n",
              "      margin-bottom: 4px;\n",
              "    }\n",
              "\n",
              "    [theme=dark] .colab-df-convert {\n",
              "      background-color: #3B4455;\n",
              "      fill: #D2E3FC;\n",
              "    }\n",
              "\n",
              "    [theme=dark] .colab-df-convert:hover {\n",
              "      background-color: #434B5C;\n",
              "      box-shadow: 0px 1px 3px 1px rgba(0, 0, 0, 0.15);\n",
              "      filter: drop-shadow(0px 1px 2px rgba(0, 0, 0, 0.3));\n",
              "      fill: #FFFFFF;\n",
              "    }\n",
              "  </style>\n",
              "\n",
              "    <script>\n",
              "      const buttonEl =\n",
              "        document.querySelector('#df-44c7b452-dbcb-46c4-958d-7cb789b90364 button.colab-df-convert');\n",
              "      buttonEl.style.display =\n",
              "        google.colab.kernel.accessAllowed ? 'block' : 'none';\n",
              "\n",
              "      async function convertToInteractive(key) {\n",
              "        const element = document.querySelector('#df-44c7b452-dbcb-46c4-958d-7cb789b90364');\n",
              "        const dataTable =\n",
              "          await google.colab.kernel.invokeFunction('convertToInteractive',\n",
              "                                                    [key], {});\n",
              "        if (!dataTable) return;\n",
              "\n",
              "        const docLinkHtml = 'Like what you see? Visit the ' +\n",
              "          '<a target=\"_blank\" href=https://colab.research.google.com/notebooks/data_table.ipynb>data table notebook</a>'\n",
              "          + ' to learn more about interactive tables.';\n",
              "        element.innerHTML = '';\n",
              "        dataTable['output_type'] = 'display_data';\n",
              "        await google.colab.output.renderOutput(dataTable, element);\n",
              "        const docLink = document.createElement('div');\n",
              "        docLink.innerHTML = docLinkHtml;\n",
              "        element.appendChild(docLink);\n",
              "      }\n",
              "    </script>\n",
              "  </div>\n",
              "\n",
              "\n",
              "  <div id=\"id_2c89fe79-490a-4912-ae03-90132260e542\">\n",
              "    <style>\n",
              "      .colab-df-generate {\n",
              "        background-color: #E8F0FE;\n",
              "        border: none;\n",
              "        border-radius: 50%;\n",
              "        cursor: pointer;\n",
              "        display: none;\n",
              "        fill: #1967D2;\n",
              "        height: 32px;\n",
              "        padding: 0 0 0 0;\n",
              "        width: 32px;\n",
              "      }\n",
              "\n",
              "      .colab-df-generate:hover {\n",
              "        background-color: #E2EBFA;\n",
              "        box-shadow: 0px 1px 2px rgba(60, 64, 67, 0.3), 0px 1px 3px 1px rgba(60, 64, 67, 0.15);\n",
              "        fill: #174EA6;\n",
              "      }\n",
              "\n",
              "      [theme=dark] .colab-df-generate {\n",
              "        background-color: #3B4455;\n",
              "        fill: #D2E3FC;\n",
              "      }\n",
              "\n",
              "      [theme=dark] .colab-df-generate:hover {\n",
              "        background-color: #434B5C;\n",
              "        box-shadow: 0px 1px 3px 1px rgba(0, 0, 0, 0.15);\n",
              "        filter: drop-shadow(0px 1px 2px rgba(0, 0, 0, 0.3));\n",
              "        fill: #FFFFFF;\n",
              "      }\n",
              "    </style>\n",
              "    <button class=\"colab-df-generate\" onclick=\"generateWithVariable('result_df')\"\n",
              "            title=\"Generate code using this dataframe.\"\n",
              "            style=\"display:none;\">\n",
              "\n",
              "  <svg xmlns=\"http://www.w3.org/2000/svg\" height=\"24px\"viewBox=\"0 0 24 24\"\n",
              "       width=\"24px\">\n",
              "    <path d=\"M7,19H8.4L18.45,9,17,7.55,7,17.6ZM5,21V16.75L18.45,3.32a2,2,0,0,1,2.83,0l1.4,1.43a1.91,1.91,0,0,1,.58,1.4,1.91,1.91,0,0,1-.58,1.4L9.25,21ZM18.45,9,17,7.55Zm-12,3A5.31,5.31,0,0,0,4.9,8.1,5.31,5.31,0,0,0,1,6.5,5.31,5.31,0,0,0,4.9,4.9,5.31,5.31,0,0,0,6.5,1,5.31,5.31,0,0,0,8.1,4.9,5.31,5.31,0,0,0,12,6.5,5.46,5.46,0,0,0,6.5,12Z\"/>\n",
              "  </svg>\n",
              "    </button>\n",
              "    <script>\n",
              "      (() => {\n",
              "      const buttonEl =\n",
              "        document.querySelector('#id_2c89fe79-490a-4912-ae03-90132260e542 button.colab-df-generate');\n",
              "      buttonEl.style.display =\n",
              "        google.colab.kernel.accessAllowed ? 'block' : 'none';\n",
              "\n",
              "      buttonEl.onclick = () => {\n",
              "        google.colab.notebook.generateWithVariable('result_df');\n",
              "      }\n",
              "      })();\n",
              "    </script>\n",
              "  </div>\n",
              "\n",
              "    </div>\n",
              "  </div>\n"
            ],
            "application/vnd.google.colaboratory.intrinsic+json": {
              "type": "dataframe",
              "variable_name": "result_df",
              "summary": "{\n  \"name\": \"result_df\",\n  \"rows\": 1,\n  \"fields\": [\n    {\n      \"column\": \"Result\",\n      \"properties\": {\n        \"dtype\": \"string\",\n        \"num_unique_values\": 1,\n        \"samples\": [\n          \"null\"\n        ],\n        \"semantic_type\": \"\",\n        \"description\": \"\"\n      }\n    }\n  ]\n}"
            }
          },
          "metadata": {}
        }
      ]
    },
    {
      "cell_type": "markdown",
      "source": [
        "**No Duplicate Transactions found**"
      ],
      "metadata": {
        "id": "z8gKhVdjHQqo"
      }
    },
    {
      "cell_type": "markdown",
      "source": [
        "# Step 3: Exploratory Data Analysis (EDA)"
      ],
      "metadata": {
        "id": "Ejny913w3Ldv"
      }
    },
    {
      "cell_type": "markdown",
      "source": [
        "### Subtask:\n",
        "Explore the transaction data to understand its structure and identify the transaction timestamp column.\n"
      ],
      "metadata": {
        "id": "5yZMy3uO3NPg"
      }
    },
    {
      "cell_type": "markdown",
      "source": [
        "**Reasoning**:\n",
        "Identify the transaction timestamp column and explore its granularity by examining the data.\n",
        "\n"
      ],
      "metadata": {
        "id": "Z8nXPdKw3lmQ"
      }
    },
    {
      "cell_type": "code",
      "source": [
        "# Print the shape and descriptive statistics of the timestamp column\n",
        "print(f\"Shape of the data: {df.shape}\")\n",
        "print(f\"Descriptive statistics of {'Transaction_Date'}:\")\n",
        "print(df['Transaction_Date'].describe())\n",
        "print(f\"Descriptive statistics of {'Transaction_Time'}:\")\n",
        "print(df['Transaction_Time'].describe())"
      ],
      "metadata": {
        "colab": {
          "base_uri": "https://localhost:8080/"
        },
        "id": "QTdocq2D3E_A",
        "outputId": "27fb4707-1ff1-4f2f-cb5b-9245a8887162"
      },
      "execution_count": 18,
      "outputs": [
        {
          "output_type": "stream",
          "name": "stdout",
          "text": [
            "Shape of the data: (500, 15)\n",
            "Descriptive statistics of Transaction_Date:\n",
            "count            500\n",
            "unique            31\n",
            "top       14-03-2025\n",
            "freq              24\n",
            "Name: Transaction_Date, dtype: object\n",
            "Descriptive statistics of Transaction_Time:\n",
            "count          500\n",
            "unique         499\n",
            "top       14:29:02\n",
            "freq             2\n",
            "Name: Transaction_Time, dtype: object\n"
          ]
        }
      ]
    },
    {
      "cell_type": "markdown",
      "source": [
        "**Reasoning**:\n",
        "Based on the output, 'Transaction_Date' and 'Transaction_Time' seem to be the timestamp columns. We can combine these columns to create a datetime column for further analysis.\n"
      ],
      "metadata": {
        "id": "SE8_Eyqh5a1T"
      }
    },
    {
      "cell_type": "code",
      "source": [
        "# Enables functions like month(), year(), day(), hour() for deeper insights.\n",
        "# Ensures correct sorting and comparisons\n",
        "\n",
        "# Combine 'Transaction_Date' and 'Transaction_Time' into a datetime column\n",
        "df['Transaction_DateTime'] = pd.to_datetime(df['Transaction_Date'] + ' ' + df['Transaction_Time'])\n",
        "\n",
        "# Print the shape and descriptive statistics of the new datetime column\n",
        "print(f\"Shape of the data: {df.shape}\")\n",
        "print(f\"Descriptive statistics of Transaction_DateTime:\")\n",
        "print(df['Transaction_DateTime'].describe())"
      ],
      "metadata": {
        "colab": {
          "base_uri": "https://localhost:8080/"
        },
        "id": "AhJ-JfQT5b5w",
        "outputId": "7c52b5e5-ab48-4611-e606-2206c995cae3"
      },
      "execution_count": 19,
      "outputs": [
        {
          "output_type": "stream",
          "name": "stdout",
          "text": [
            "Shape of the data: (500, 16)\n",
            "Descriptive statistics of Transaction_DateTime:\n",
            "count                              500\n",
            "mean     2025-03-15 19:28:38.886000128\n",
            "min                2025-03-01 02:03:06\n",
            "25%      2025-03-08 14:36:24.750000128\n",
            "50%                2025-03-14 23:03:34\n",
            "75%                2025-03-23 03:10:54\n",
            "max                2025-03-31 21:46:59\n",
            "Name: Transaction_DateTime, dtype: object\n"
          ]
        }
      ]
    },
    {
      "cell_type": "markdown",
      "source": [
        "\n",
        "\n",
        "## Data analysis\n",
        "\n",
        "### Subtask:\n",
        "Analyze transaction counts by hour to identify peak transaction times.\n"
      ],
      "metadata": {
        "id": "cl5Ny-q43ovU"
      }
    },
    {
      "cell_type": "markdown",
      "source": [
        "**Reasoning**:\n",
        "Extract the hour from the `Transaction_DateTime` column, group by hour and count transactions, sort in descending order, and store results in `df_hourly_transactions`.\n",
        "\n"
      ],
      "metadata": {
        "id": "Z1F-FAv87onC"
      }
    },
    {
      "cell_type": "code",
      "source": [
        "# Extract the hour from the Transaction_DateTime column\n",
        "df['hour'] = df['Transaction_DateTime'].dt.hour\n",
        "\n",
        "# Group transactions by hour and count the number of transactions in each hour\n",
        "df_hourly_transactions = df.groupby('hour').size().reset_index(name='transaction_count') #Converts the grouped data from a Series to a DataFrame. The new column is named 'transaction_count', making it more readable.\n",
        "\n",
        "# Sort the counts in descending order\n",
        "df_hourly_transactions = df_hourly_transactions.sort_values('transaction_count', ascending=False)\n",
        "\n",
        "# Display the resulting DataFrame\n",
        "display(df_hourly_transactions)"
      ],
      "metadata": {
        "colab": {
          "base_uri": "https://localhost:8080/",
          "height": 802
        },
        "id": "jdfX8T043pQE",
        "outputId": "ac846495-9683-4960-c12d-329b59ee6cc7"
      },
      "execution_count": 20,
      "outputs": [
        {
          "output_type": "display_data",
          "data": {
            "text/plain": [
              "    hour  transaction_count\n",
              "10    10                 39\n",
              "14    14                 38\n",
              "13    13                 36\n",
              "12    12                 36\n",
              "9      9                 34\n",
              "15    15                 32\n",
              "16    16                 26\n",
              "8      8                 26\n",
              "11    11                 25\n",
              "6      6                 25\n",
              "7      7                 24\n",
              "18    18                 23\n",
              "17    17                 22\n",
              "5      5                 18\n",
              "4      4                 17\n",
              "19    19                 17\n",
              "20    20                 16\n",
              "3      3                 10\n",
              "2      2                  8\n",
              "21    21                  8\n",
              "1      1                  5\n",
              "0      0                  5\n",
              "22    22                  5\n",
              "23    23                  5"
            ],
            "text/html": [
              "\n",
              "  <div id=\"df-b55a3010-89fa-465f-8d09-53e0018ac197\" class=\"colab-df-container\">\n",
              "    <div>\n",
              "<style scoped>\n",
              "    .dataframe tbody tr th:only-of-type {\n",
              "        vertical-align: middle;\n",
              "    }\n",
              "\n",
              "    .dataframe tbody tr th {\n",
              "        vertical-align: top;\n",
              "    }\n",
              "\n",
              "    .dataframe thead th {\n",
              "        text-align: right;\n",
              "    }\n",
              "</style>\n",
              "<table border=\"1\" class=\"dataframe\">\n",
              "  <thead>\n",
              "    <tr style=\"text-align: right;\">\n",
              "      <th></th>\n",
              "      <th>hour</th>\n",
              "      <th>transaction_count</th>\n",
              "    </tr>\n",
              "  </thead>\n",
              "  <tbody>\n",
              "    <tr>\n",
              "      <th>10</th>\n",
              "      <td>10</td>\n",
              "      <td>39</td>\n",
              "    </tr>\n",
              "    <tr>\n",
              "      <th>14</th>\n",
              "      <td>14</td>\n",
              "      <td>38</td>\n",
              "    </tr>\n",
              "    <tr>\n",
              "      <th>13</th>\n",
              "      <td>13</td>\n",
              "      <td>36</td>\n",
              "    </tr>\n",
              "    <tr>\n",
              "      <th>12</th>\n",
              "      <td>12</td>\n",
              "      <td>36</td>\n",
              "    </tr>\n",
              "    <tr>\n",
              "      <th>9</th>\n",
              "      <td>9</td>\n",
              "      <td>34</td>\n",
              "    </tr>\n",
              "    <tr>\n",
              "      <th>15</th>\n",
              "      <td>15</td>\n",
              "      <td>32</td>\n",
              "    </tr>\n",
              "    <tr>\n",
              "      <th>16</th>\n",
              "      <td>16</td>\n",
              "      <td>26</td>\n",
              "    </tr>\n",
              "    <tr>\n",
              "      <th>8</th>\n",
              "      <td>8</td>\n",
              "      <td>26</td>\n",
              "    </tr>\n",
              "    <tr>\n",
              "      <th>11</th>\n",
              "      <td>11</td>\n",
              "      <td>25</td>\n",
              "    </tr>\n",
              "    <tr>\n",
              "      <th>6</th>\n",
              "      <td>6</td>\n",
              "      <td>25</td>\n",
              "    </tr>\n",
              "    <tr>\n",
              "      <th>7</th>\n",
              "      <td>7</td>\n",
              "      <td>24</td>\n",
              "    </tr>\n",
              "    <tr>\n",
              "      <th>18</th>\n",
              "      <td>18</td>\n",
              "      <td>23</td>\n",
              "    </tr>\n",
              "    <tr>\n",
              "      <th>17</th>\n",
              "      <td>17</td>\n",
              "      <td>22</td>\n",
              "    </tr>\n",
              "    <tr>\n",
              "      <th>5</th>\n",
              "      <td>5</td>\n",
              "      <td>18</td>\n",
              "    </tr>\n",
              "    <tr>\n",
              "      <th>4</th>\n",
              "      <td>4</td>\n",
              "      <td>17</td>\n",
              "    </tr>\n",
              "    <tr>\n",
              "      <th>19</th>\n",
              "      <td>19</td>\n",
              "      <td>17</td>\n",
              "    </tr>\n",
              "    <tr>\n",
              "      <th>20</th>\n",
              "      <td>20</td>\n",
              "      <td>16</td>\n",
              "    </tr>\n",
              "    <tr>\n",
              "      <th>3</th>\n",
              "      <td>3</td>\n",
              "      <td>10</td>\n",
              "    </tr>\n",
              "    <tr>\n",
              "      <th>2</th>\n",
              "      <td>2</td>\n",
              "      <td>8</td>\n",
              "    </tr>\n",
              "    <tr>\n",
              "      <th>21</th>\n",
              "      <td>21</td>\n",
              "      <td>8</td>\n",
              "    </tr>\n",
              "    <tr>\n",
              "      <th>1</th>\n",
              "      <td>1</td>\n",
              "      <td>5</td>\n",
              "    </tr>\n",
              "    <tr>\n",
              "      <th>0</th>\n",
              "      <td>0</td>\n",
              "      <td>5</td>\n",
              "    </tr>\n",
              "    <tr>\n",
              "      <th>22</th>\n",
              "      <td>22</td>\n",
              "      <td>5</td>\n",
              "    </tr>\n",
              "    <tr>\n",
              "      <th>23</th>\n",
              "      <td>23</td>\n",
              "      <td>5</td>\n",
              "    </tr>\n",
              "  </tbody>\n",
              "</table>\n",
              "</div>\n",
              "    <div class=\"colab-df-buttons\">\n",
              "\n",
              "  <div class=\"colab-df-container\">\n",
              "    <button class=\"colab-df-convert\" onclick=\"convertToInteractive('df-b55a3010-89fa-465f-8d09-53e0018ac197')\"\n",
              "            title=\"Convert this dataframe to an interactive table.\"\n",
              "            style=\"display:none;\">\n",
              "\n",
              "  <svg xmlns=\"http://www.w3.org/2000/svg\" height=\"24px\" viewBox=\"0 -960 960 960\">\n",
              "    <path d=\"M120-120v-720h720v720H120Zm60-500h600v-160H180v160Zm220 220h160v-160H400v160Zm0 220h160v-160H400v160ZM180-400h160v-160H180v160Zm440 0h160v-160H620v160ZM180-180h160v-160H180v160Zm440 0h160v-160H620v160Z\"/>\n",
              "  </svg>\n",
              "    </button>\n",
              "\n",
              "  <style>\n",
              "    .colab-df-container {\n",
              "      display:flex;\n",
              "      gap: 12px;\n",
              "    }\n",
              "\n",
              "    .colab-df-convert {\n",
              "      background-color: #E8F0FE;\n",
              "      border: none;\n",
              "      border-radius: 50%;\n",
              "      cursor: pointer;\n",
              "      display: none;\n",
              "      fill: #1967D2;\n",
              "      height: 32px;\n",
              "      padding: 0 0 0 0;\n",
              "      width: 32px;\n",
              "    }\n",
              "\n",
              "    .colab-df-convert:hover {\n",
              "      background-color: #E2EBFA;\n",
              "      box-shadow: 0px 1px 2px rgba(60, 64, 67, 0.3), 0px 1px 3px 1px rgba(60, 64, 67, 0.15);\n",
              "      fill: #174EA6;\n",
              "    }\n",
              "\n",
              "    .colab-df-buttons div {\n",
              "      margin-bottom: 4px;\n",
              "    }\n",
              "\n",
              "    [theme=dark] .colab-df-convert {\n",
              "      background-color: #3B4455;\n",
              "      fill: #D2E3FC;\n",
              "    }\n",
              "\n",
              "    [theme=dark] .colab-df-convert:hover {\n",
              "      background-color: #434B5C;\n",
              "      box-shadow: 0px 1px 3px 1px rgba(0, 0, 0, 0.15);\n",
              "      filter: drop-shadow(0px 1px 2px rgba(0, 0, 0, 0.3));\n",
              "      fill: #FFFFFF;\n",
              "    }\n",
              "  </style>\n",
              "\n",
              "    <script>\n",
              "      const buttonEl =\n",
              "        document.querySelector('#df-b55a3010-89fa-465f-8d09-53e0018ac197 button.colab-df-convert');\n",
              "      buttonEl.style.display =\n",
              "        google.colab.kernel.accessAllowed ? 'block' : 'none';\n",
              "\n",
              "      async function convertToInteractive(key) {\n",
              "        const element = document.querySelector('#df-b55a3010-89fa-465f-8d09-53e0018ac197');\n",
              "        const dataTable =\n",
              "          await google.colab.kernel.invokeFunction('convertToInteractive',\n",
              "                                                    [key], {});\n",
              "        if (!dataTable) return;\n",
              "\n",
              "        const docLinkHtml = 'Like what you see? Visit the ' +\n",
              "          '<a target=\"_blank\" href=https://colab.research.google.com/notebooks/data_table.ipynb>data table notebook</a>'\n",
              "          + ' to learn more about interactive tables.';\n",
              "        element.innerHTML = '';\n",
              "        dataTable['output_type'] = 'display_data';\n",
              "        await google.colab.output.renderOutput(dataTable, element);\n",
              "        const docLink = document.createElement('div');\n",
              "        docLink.innerHTML = docLinkHtml;\n",
              "        element.appendChild(docLink);\n",
              "      }\n",
              "    </script>\n",
              "  </div>\n",
              "\n",
              "\n",
              "<div id=\"df-695bfdaa-4a01-48cb-a92b-13cf801becc3\">\n",
              "  <button class=\"colab-df-quickchart\" onclick=\"quickchart('df-695bfdaa-4a01-48cb-a92b-13cf801becc3')\"\n",
              "            title=\"Suggest charts\"\n",
              "            style=\"display:none;\">\n",
              "\n",
              "<svg xmlns=\"http://www.w3.org/2000/svg\" height=\"24px\"viewBox=\"0 0 24 24\"\n",
              "     width=\"24px\">\n",
              "    <g>\n",
              "        <path d=\"M19 3H5c-1.1 0-2 .9-2 2v14c0 1.1.9 2 2 2h14c1.1 0 2-.9 2-2V5c0-1.1-.9-2-2-2zM9 17H7v-7h2v7zm4 0h-2V7h2v10zm4 0h-2v-4h2v4z\"/>\n",
              "    </g>\n",
              "</svg>\n",
              "  </button>\n",
              "\n",
              "<style>\n",
              "  .colab-df-quickchart {\n",
              "      --bg-color: #E8F0FE;\n",
              "      --fill-color: #1967D2;\n",
              "      --hover-bg-color: #E2EBFA;\n",
              "      --hover-fill-color: #174EA6;\n",
              "      --disabled-fill-color: #AAA;\n",
              "      --disabled-bg-color: #DDD;\n",
              "  }\n",
              "\n",
              "  [theme=dark] .colab-df-quickchart {\n",
              "      --bg-color: #3B4455;\n",
              "      --fill-color: #D2E3FC;\n",
              "      --hover-bg-color: #434B5C;\n",
              "      --hover-fill-color: #FFFFFF;\n",
              "      --disabled-bg-color: #3B4455;\n",
              "      --disabled-fill-color: #666;\n",
              "  }\n",
              "\n",
              "  .colab-df-quickchart {\n",
              "    background-color: var(--bg-color);\n",
              "    border: none;\n",
              "    border-radius: 50%;\n",
              "    cursor: pointer;\n",
              "    display: none;\n",
              "    fill: var(--fill-color);\n",
              "    height: 32px;\n",
              "    padding: 0;\n",
              "    width: 32px;\n",
              "  }\n",
              "\n",
              "  .colab-df-quickchart:hover {\n",
              "    background-color: var(--hover-bg-color);\n",
              "    box-shadow: 0 1px 2px rgba(60, 64, 67, 0.3), 0 1px 3px 1px rgba(60, 64, 67, 0.15);\n",
              "    fill: var(--button-hover-fill-color);\n",
              "  }\n",
              "\n",
              "  .colab-df-quickchart-complete:disabled,\n",
              "  .colab-df-quickchart-complete:disabled:hover {\n",
              "    background-color: var(--disabled-bg-color);\n",
              "    fill: var(--disabled-fill-color);\n",
              "    box-shadow: none;\n",
              "  }\n",
              "\n",
              "  .colab-df-spinner {\n",
              "    border: 2px solid var(--fill-color);\n",
              "    border-color: transparent;\n",
              "    border-bottom-color: var(--fill-color);\n",
              "    animation:\n",
              "      spin 1s steps(1) infinite;\n",
              "  }\n",
              "\n",
              "  @keyframes spin {\n",
              "    0% {\n",
              "      border-color: transparent;\n",
              "      border-bottom-color: var(--fill-color);\n",
              "      border-left-color: var(--fill-color);\n",
              "    }\n",
              "    20% {\n",
              "      border-color: transparent;\n",
              "      border-left-color: var(--fill-color);\n",
              "      border-top-color: var(--fill-color);\n",
              "    }\n",
              "    30% {\n",
              "      border-color: transparent;\n",
              "      border-left-color: var(--fill-color);\n",
              "      border-top-color: var(--fill-color);\n",
              "      border-right-color: var(--fill-color);\n",
              "    }\n",
              "    40% {\n",
              "      border-color: transparent;\n",
              "      border-right-color: var(--fill-color);\n",
              "      border-top-color: var(--fill-color);\n",
              "    }\n",
              "    60% {\n",
              "      border-color: transparent;\n",
              "      border-right-color: var(--fill-color);\n",
              "    }\n",
              "    80% {\n",
              "      border-color: transparent;\n",
              "      border-right-color: var(--fill-color);\n",
              "      border-bottom-color: var(--fill-color);\n",
              "    }\n",
              "    90% {\n",
              "      border-color: transparent;\n",
              "      border-bottom-color: var(--fill-color);\n",
              "    }\n",
              "  }\n",
              "</style>\n",
              "\n",
              "  <script>\n",
              "    async function quickchart(key) {\n",
              "      const quickchartButtonEl =\n",
              "        document.querySelector('#' + key + ' button');\n",
              "      quickchartButtonEl.disabled = true;  // To prevent multiple clicks.\n",
              "      quickchartButtonEl.classList.add('colab-df-spinner');\n",
              "      try {\n",
              "        const charts = await google.colab.kernel.invokeFunction(\n",
              "            'suggestCharts', [key], {});\n",
              "      } catch (error) {\n",
              "        console.error('Error during call to suggestCharts:', error);\n",
              "      }\n",
              "      quickchartButtonEl.classList.remove('colab-df-spinner');\n",
              "      quickchartButtonEl.classList.add('colab-df-quickchart-complete');\n",
              "    }\n",
              "    (() => {\n",
              "      let quickchartButtonEl =\n",
              "        document.querySelector('#df-695bfdaa-4a01-48cb-a92b-13cf801becc3 button');\n",
              "      quickchartButtonEl.style.display =\n",
              "        google.colab.kernel.accessAllowed ? 'block' : 'none';\n",
              "    })();\n",
              "  </script>\n",
              "</div>\n",
              "\n",
              "  <div id=\"id_db3e6d0b-3583-4a7d-b814-c640629bb847\">\n",
              "    <style>\n",
              "      .colab-df-generate {\n",
              "        background-color: #E8F0FE;\n",
              "        border: none;\n",
              "        border-radius: 50%;\n",
              "        cursor: pointer;\n",
              "        display: none;\n",
              "        fill: #1967D2;\n",
              "        height: 32px;\n",
              "        padding: 0 0 0 0;\n",
              "        width: 32px;\n",
              "      }\n",
              "\n",
              "      .colab-df-generate:hover {\n",
              "        background-color: #E2EBFA;\n",
              "        box-shadow: 0px 1px 2px rgba(60, 64, 67, 0.3), 0px 1px 3px 1px rgba(60, 64, 67, 0.15);\n",
              "        fill: #174EA6;\n",
              "      }\n",
              "\n",
              "      [theme=dark] .colab-df-generate {\n",
              "        background-color: #3B4455;\n",
              "        fill: #D2E3FC;\n",
              "      }\n",
              "\n",
              "      [theme=dark] .colab-df-generate:hover {\n",
              "        background-color: #434B5C;\n",
              "        box-shadow: 0px 1px 3px 1px rgba(0, 0, 0, 0.15);\n",
              "        filter: drop-shadow(0px 1px 2px rgba(0, 0, 0, 0.3));\n",
              "        fill: #FFFFFF;\n",
              "      }\n",
              "    </style>\n",
              "    <button class=\"colab-df-generate\" onclick=\"generateWithVariable('df_hourly_transactions')\"\n",
              "            title=\"Generate code using this dataframe.\"\n",
              "            style=\"display:none;\">\n",
              "\n",
              "  <svg xmlns=\"http://www.w3.org/2000/svg\" height=\"24px\"viewBox=\"0 0 24 24\"\n",
              "       width=\"24px\">\n",
              "    <path d=\"M7,19H8.4L18.45,9,17,7.55,7,17.6ZM5,21V16.75L18.45,3.32a2,2,0,0,1,2.83,0l1.4,1.43a1.91,1.91,0,0,1,.58,1.4,1.91,1.91,0,0,1-.58,1.4L9.25,21ZM18.45,9,17,7.55Zm-12,3A5.31,5.31,0,0,0,4.9,8.1,5.31,5.31,0,0,0,1,6.5,5.31,5.31,0,0,0,4.9,4.9,5.31,5.31,0,0,0,6.5,1,5.31,5.31,0,0,0,8.1,4.9,5.31,5.31,0,0,0,12,6.5,5.46,5.46,0,0,0,6.5,12Z\"/>\n",
              "  </svg>\n",
              "    </button>\n",
              "    <script>\n",
              "      (() => {\n",
              "      const buttonEl =\n",
              "        document.querySelector('#id_db3e6d0b-3583-4a7d-b814-c640629bb847 button.colab-df-generate');\n",
              "      buttonEl.style.display =\n",
              "        google.colab.kernel.accessAllowed ? 'block' : 'none';\n",
              "\n",
              "      buttonEl.onclick = () => {\n",
              "        google.colab.notebook.generateWithVariable('df_hourly_transactions');\n",
              "      }\n",
              "      })();\n",
              "    </script>\n",
              "  </div>\n",
              "\n",
              "    </div>\n",
              "  </div>\n"
            ],
            "application/vnd.google.colaboratory.intrinsic+json": {
              "type": "dataframe",
              "variable_name": "df_hourly_transactions",
              "summary": "{\n  \"name\": \"df_hourly_transactions\",\n  \"rows\": 24,\n  \"fields\": [\n    {\n      \"column\": \"hour\",\n      \"properties\": {\n        \"dtype\": \"int32\",\n        \"num_unique_values\": 24,\n        \"samples\": [\n          11,\n          20,\n          10\n        ],\n        \"semantic_type\": \"\",\n        \"description\": \"\"\n      }\n    },\n    {\n      \"column\": \"transaction_count\",\n      \"properties\": {\n        \"dtype\": \"number\",\n        \"std\": 11,\n        \"min\": 5,\n        \"max\": 39,\n        \"num_unique_values\": 16,\n        \"samples\": [\n          39,\n          38,\n          26\n        ],\n        \"semantic_type\": \"\",\n        \"description\": \"\"\n      }\n    }\n  ]\n}"
            }
          },
          "metadata": {}
        }
      ]
    },
    {
      "cell_type": "markdown",
      "source": [
        "# Data visualization\n",
        "\n",
        "### Subtask:\n",
        "Visualize the hourly transaction counts to identify peak transaction times.\n"
      ],
      "metadata": {
        "id": "hYH3QI71CcgB"
      }
    },
    {
      "cell_type": "markdown",
      "source": [
        "**Reasoning**:\n",
        "Visualize the hourly transaction counts using a bar chart to identify peak transaction times.\n",
        "\n"
      ],
      "metadata": {
        "id": "LTBubWQ3Cutp"
      }
    },
    {
      "cell_type": "code",
      "source": [
        "# Create a bar chart of hourly transaction counts\n",
        "plt.figure(figsize=(12, 6))\n",
        "plt.bar(df_hourly_transactions['hour'], df_hourly_transactions['transaction_count'])\n",
        "plt.xlabel('Hour of the Day')\n",
        "plt.ylabel('Number of Transactions')\n",
        "plt.title('Hourly Transaction Counts')\n",
        "\n",
        "# Highlight peak transaction times (e.g., top 3 hours)\n",
        "peak_hours = df_hourly_transactions.nlargest(3, 'transaction_count')['hour'].tolist()\n",
        "for hour in peak_hours:\n",
        "  plt.bar(hour, df_hourly_transactions[df_hourly_transactions['hour'] == hour]['transaction_count'].values[0], color='red')\n",
        "\n",
        "plt.show()"
      ],
      "metadata": {
        "colab": {
          "base_uri": "https://localhost:8080/",
          "height": 564
        },
        "id": "v6emTavT7vw1",
        "outputId": "0c5dee7e-b4e8-4c63-c2a8-fca98f0becf5"
      },
      "execution_count": 21,
      "outputs": [
        {
          "output_type": "display_data",
          "data": {
            "text/plain": [
              "<Figure size 1200x600 with 1 Axes>"
            ],
            "image/png": "[encoded data removed]"
          },
          "metadata": {}
        }
      ]
    },
    {
      "cell_type": "markdown",
      "source": [
        "**Interpretation:**\n",
        "\n",
        "The peak hours are clustered around 10 AM, 1 PM, and 2 PM, it might suggest that:\n",
        "\n",
        "* Customers might be more likely to make transactions during their lunch break or after work.\n",
        "* It might be worthwhile to allocate more resources to handle customer inquiries during these times.\n",
        "* The company might consider offering special promotions or deals during these hours to maximize sales.\n"
      ],
      "metadata": {
        "id": "cZJiouyKDsxw"
      }
    },
    {
      "cell_type": "code",
      "source": [
        "Total_Cashback_Received = df[\"Cashback_Received\"].sum()\n",
        "print(f\"Total Cashback Received: Rs {Total_Cashback_Received}\")"
      ],
      "metadata": {
        "colab": {
          "base_uri": "https://localhost:8080/"
        },
        "id": "-A8BvIZCjNc3",
        "outputId": "4ca630db-7417-4c29-a6c9-e575c2dbe451"
      },
      "execution_count": null,
      "outputs": [
        {
          "output_type": "stream",
          "name": "stdout",
          "text": [
            "Total Cashback Received: Rs 19440.370000000003\n"
          ]
        }
      ]
    },
    {
      "cell_type": "code",
      "source": [
        "df['User_ID'].unique()"
      ],
      "metadata": {
        "colab": {
          "base_uri": "https://localhost:8080/"
        },
        "id": "mdBieYRn78wU",
        "outputId": "18bc3342-d92b-4285-bdd8-af7cc6860700"
      },
      "execution_count": null,
      "outputs": [
        {
          "output_type": "execute_result",
          "data": {
            "text/plain": [
              "array([1011, 1023, 1059, 1089, 1045, 1009, 1028, 1003, 1049, 1058, 1050,\n",
              "       1047, 1013, 1092, 1098, 1077, 1032, 1030, 1084, 1096, 1037, 1005,\n",
              "       1029, 1040, 1055, 1012, 1071, 1036, 1017, 1046, 1079, 1033, 1097,\n",
              "       1070, 1007, 1034, 1085, 1075, 1048, 1018, 1074, 1066, 1006, 1001,\n",
              "       1072, 1095, 1015, 1056, 1087, 1065, 1083, 1060, 1094, 1039, 1064,\n",
              "       1068, 1080, 1038, 1035, 1091, 1100, 1090, 1042, 1053, 1021, 1088,\n",
              "       1004, 1069, 1027, 1093, 1002, 1010, 1099, 1014, 1016, 1025, 1057,\n",
              "       1024, 1081, 1008, 1041, 1054, 1073, 1061, 1063, 1076, 1020, 1086,\n",
              "       1019, 1062, 1026, 1044, 1051, 1043, 1082, 1078, 1031, 1052])"
            ]
          },
          "metadata": {},
          "execution_count": 55
        }
      ]
    },
    {
      "cell_type": "code",
      "source": [
        "df['User_ID'].nunique()"
      ],
      "metadata": {
        "colab": {
          "base_uri": "https://localhost:8080/"
        },
        "id": "DfMJYi0n7sp3",
        "outputId": "e2e05e97-a6c7-4263-cfc8-d64d4ce7f34b"
      },
      "execution_count": 22,
      "outputs": [
        {
          "output_type": "execute_result",
          "data": {
            "text/plain": [
              "98"
            ]
          },
          "metadata": {},
          "execution_count": 22
        }
      ]
    },
    {
      "cell_type": "markdown",
      "source": [
        "## Identifying the top users\n",
        "Step 1: Group by User_ID and count transactions"
      ],
      "metadata": {
        "id": "aWMbY5049YDq"
      }
    },
    {
      "cell_type": "code",
      "source": [
        "transaction_counts = df.groupby('User_ID')['Transaction_ID'].count().reset_index()\n",
        "transaction_counts.rename(columns={'Transaction_ID': 'Transaction_Count'}, inplace=True)\n",
        "top_10_users = transaction_counts.sort_values(by='Transaction_Count', ascending=False).head(10)"
      ],
      "metadata": {
        "id": "sZMqxeiI9W3m"
      },
      "execution_count": 23,
      "outputs": []
    },
    {
      "cell_type": "code",
      "source": [
        "import matplotlib.pyplot as plt\n",
        "import seaborn as sns\n",
        "\n",
        "plt.figure(figsize=(10, 6))\n",
        "# Sort the bars in descending order within the plot\n",
        "sns.barplot(x='User_ID', y='Transaction_Count', data=top_10_users, order=top_10_users.sort_values('Transaction_Count', ascending=False)['User_ID'])\n",
        "plt.title('Top 10 Users by Transaction Count (Sorted)')\n",
        "plt.xlabel('User ID')\n",
        "plt.ylabel('Transaction Count')\n",
        "plt.xticks(rotation=45)\n",
        "plt.show()"
      ],
      "metadata": {
        "colab": {
          "base_uri": "https://localhost:8080/",
          "height": 585
        },
        "id": "nH5vWZNR-gL9",
        "outputId": "f5fbc5c3-60b9-4690-c5c8-d0a246565a5c"
      },
      "execution_count": 24,
      "outputs": [
        {
          "output_type": "display_data",
          "data": {
            "text/plain": [
              "<Figure size 1000x600 with 1 Axes>"
            ],
            "image/png": "[encoded data removed]"
          },
          "metadata": {}
        }
      ]
    },
    {
      "cell_type": "markdown",
      "source": [
        "**We can give some good offers for the most loyal customers**"
      ],
      "metadata": {
        "id": "zC7R8YuxAEQw"
      }
    },
    {
      "cell_type": "markdown",
      "source": [
        "## Identifying the top Merchants"
      ],
      "metadata": {
        "id": "PxYY-3qYFroX"
      }
    },
    {
      "cell_type": "code",
      "source": [
        "df['Merchant'].nunique()"
      ],
      "metadata": {
        "colab": {
          "base_uri": "https://localhost:8080/"
        },
        "id": "1XwNkBp8Fk0T",
        "outputId": "d6e48577-85a8-4d38-bf12-847d67123b04"
      },
      "execution_count": null,
      "outputs": [
        {
          "output_type": "execute_result",
          "data": {
            "text/plain": [
              "9"
            ]
          },
          "metadata": {},
          "execution_count": 66
        }
      ]
    },
    {
      "cell_type": "code",
      "source": [
        "import matplotlib.pyplot as plt\n",
        "import seaborn as sns\n",
        "\n",
        "# Top Merchants with Most Frequent Transactions (All Merchants in Descending Order)\n",
        "merchant_frequency = df.groupby('Merchant')['Transaction_ID'].count().reset_index()\n",
        "merchant_frequency.rename(columns={'Transaction_ID': 'Transaction_Count'}, inplace=True)\n",
        "merchant_frequency = merchant_frequency.sort_values(by='Transaction_Count', ascending=False)  # Sort all merchants\n",
        "\n",
        "# Top Merchants with Highest Value of Total Transactions (All Merchants in Descending Order)\n",
        "merchant_value = df.groupby('Merchant')['Transaction_Amount'].sum().reset_index()\n",
        "merchant_value.rename(columns={'Transaction_Amount': 'Total_Transaction_Value'}, inplace=True)\n",
        "merchant_value = merchant_value.sort_values(by='Total_Transaction_Value', ascending=False)  # Sort all merchants\n",
        "\n",
        "# Create Charts\n",
        "fig, axes = plt.subplots(1, 2, figsize=(12, 5))  # 1 row, 2 columns of charts\n",
        "\n",
        "# Chart 1: Most Frequent Transactions (All Merchants)\n",
        "sns.barplot(x='Merchant', y='Transaction_Count', data=merchant_frequency, order=merchant_frequency['Merchant'], ax=axes[0])  # Use order for sorting\n",
        "axes[0].set_title('Merchants with Most Frequent Transactions (All Merchants)')\n",
        "axes[0].set_xlabel('Merchant')\n",
        "axes[0].set_ylabel('Transaction Count')\n",
        "axes[0].tick_params(axis='x', rotation=45)\n",
        "\n",
        "# Chart 2: Highest Value of Total Transactions (All Merchants)\n",
        "sns.barplot(x='Merchant', y='Total_Transaction_Value', data=merchant_value, order=merchant_value['Merchant'], ax=axes[1])  # Use order for sorting\n",
        "axes[1].set_title('Merchants with Highest Value of Total Transactions (All Merchants)')\n",
        "axes[1].set_xlabel('Merchant')\n",
        "axes[1].set_ylabel('Total Transaction Value')\n",
        "axes[1].tick_params(axis='x', rotation=45)\n",
        "plt.tight_layout()  # Adjust layout to prevent overlapping\n",
        "plt.show()"
      ],
      "metadata": {
        "colab": {
          "base_uri": "https://localhost:8080/",
          "height": 507
        },
        "id": "JpA3Ua-1FILC",
        "outputId": "accbdf13-89b3-4431-c62e-56a54f3b3d2c"
      },
      "execution_count": 25,
      "outputs": [
        {
          "output_type": "display_data",
          "data": {
            "text/plain": [
              "<Figure size 1200x500 with 2 Axes>"
            ],
            "image/png": "[encoded data removed]"
          },
          "metadata": {}
        }
      ]
    },
    {
      "cell_type": "code",
      "source": [
        "### Analysing Gender and Age Columns"
      ],
      "metadata": {
        "id": "EBmYeuFo_nZ5"
      },
      "execution_count": null,
      "outputs": []
    },
    {
      "cell_type": "code",
      "source": [
        "plt.figure(figsize=(10, 6))\n",
        "sns.boxplot(x='Gender', y='Age', data=df)\n",
        "plt.title('Age Distribution by Gender')\n",
        "plt.xlabel('Gender')\n",
        "plt.ylabel('Age')\n",
        "plt.show()\n",
        "\n",
        "# Or a violin plot for a more detailed view of the distribution\n",
        "plt.figure(figsize=(10, 6))\n",
        "sns.violinplot(x='Gender', y='Age', data=df)\n",
        "plt.title('Age Distribution by Gender')\n",
        "plt.xlabel('Gender')\n",
        "plt.ylabel('Age')\n",
        "plt.show()\n"
      ],
      "metadata": {
        "colab": {
          "base_uri": "https://localhost:8080/",
          "height": 1000
        },
        "id": "wy_hJZ3c_ICe",
        "outputId": "c7fa4605-36c9-46fd-9e23-25387be61b0f"
      },
      "execution_count": 26,
      "outputs": [
        {
          "output_type": "display_data",
          "data": {
            "text/plain": [
              "<Figure size 1000x600 with 1 Axes>"
            ],
            "image/png": "[encoded data removed]"
          },
          "metadata": {}
        },
        {
          "output_type": "display_data",
          "data": {
            "text/plain": [
              "<Figure size 1000x600 with 1 Axes>"
            ],
            "image/png": "[encoded data removed]"
          },
          "metadata": {}
        }
      ]
    },
    {
      "cell_type": "markdown",
      "source": [
        "# prompt: what does the above graphs generated by you tell\n",
        "\n",
        "Okay, let's analyze the graphs and insights generated by the provided code:\n",
        "\n",
        "\n",
        "**1. Hourly Transaction Counts:**\n",
        "\n",
        "* **Peak Transaction Times:** The bar chart shows that the peak transaction hours are around 10 AM, 1 PM, and 2 PM.\n",
        "* **Interpretation:** This suggests that customers are more active during lunch breaks or possibly after work. It implies that these are prime times for potential promotions or targeted marketing efforts to maximize sales.\n",
        "* **Resource Allocation:**  It also indicates that the company may need to allocate more resources to handle customer support and inquiries during these peak hours.\n",
        "\n",
        "\n",
        "**2. Top 10 Users by Transaction Count:**\n",
        "\n",
        "* **User Loyalty:** The bar chart identifies the 10 users with the highest number of transactions.\n",
        "* **Interpretation:** These users can be considered the most loyal customers. The company might benefit from targeted loyalty programs, exclusive offers, or feedback requests to further retain and engage them.\n",
        "\n",
        "\n",
        "**3. Top Merchants by Transaction Count and Value:**\n",
        "\n",
        "* **Merchant Performance:** The bar charts show two perspectives on merchant performance:\n",
        "    * Merchants with the most frequent transactions (total transaction count).\n",
        "    * Merchants with the highest total transaction value.\n",
        "* **Interpretation:**\n",
        "    * Merchants appearing high on both charts are likely the most successful and popular.\n",
        "    * Companies can study these top-performing merchants' strategies for potential expansion or improvement across other merchants.\n",
        "    * Further analysis on these merchants can reveal useful insights into marketing campaigns, product offerings, and customer preferences.\n",
        "\n",
        "**4. Age Distribution by Gender:**\n",
        "\n",
        "* **Gender & Age:** The box plots (or violin plots) show the age distribution for different genders.\n",
        "* **Interpretation:** By analyzing the median, quartiles, and potential outliers for each gender, you can infer demographic trends. For example, you might discover that a specific age group of males or females tends to be more active in transactions.\n",
        "* **Targeted Marketing:** This analysis can help create targeted marketing campaigns or product offerings tailored to specific demographics.\n",
        "\n",
        "\n",
        "**Overall Insights:**\n",
        "\n",
        "\n",
        "* **Peak Transaction Hours:** Identify periods of high activity for optimizing resource allocation and marketing campaigns.\n",
        "* **Loyal Customers:** Recognize and engage the most valuable customers for improved retention and sales.\n",
        "* **Merchant Performance:** Understand top-performing merchants to gain insights into successful strategies and potentially enhance performance across other merchants.\n",
        "* **Customer Demographics:** Analyze age and gender distributions to tailor marketing and product offerings for different customer segments.\n",
        "\n",
        "\n",
        "By examining these graphs and insights together, you can gain a deeper understanding of customer behavior, identify areas for improvement, and develop strategies to optimize business performance and revenue generation.\n"
      ],
      "metadata": {
        "id": "McAgtUehAIeZ"
      }
    },
    {
      "cell_type": "code",
      "source": [
        "# prompt: give line chart of age and gender VS weekdays and interpret the graph in words\n",
        "\n",
        "import pandas as pd\n",
        "import matplotlib.pyplot as plt\n",
        "import seaborn as sns\n",
        "\n",
        "# Assuming your DataFrame is named 'df' and contains 'Transaction_DateTime', 'Gender', and 'Age' columns\n",
        "# You'll need to adapt this code to your specific DataFrame structure.\n",
        "\n",
        "# Convert 'Transaction_DateTime' to a datetime object if it's not already\n",
        "df['Transaction_DateTime'] = pd.to_datetime(df['Transaction_DateTime'])\n",
        "\n",
        "# Extract the weekday from the 'Transaction_DateTime' column\n",
        "df['Weekday'] = df['Transaction_DateTime'].dt.dayofweek  # 0 = Monday, 6 = Sunday\n",
        "\n",
        "# Create a line chart of Age vs Weekday for each Gender\n",
        "plt.figure(figsize=(12, 6))\n",
        "sns.lineplot(x='Weekday', y='Age', hue='Gender', data=df)\n",
        "plt.title('Age vs Weekday by Gender')\n",
        "plt.xlabel('Weekday (0=Monday, 6=Sunday)')\n",
        "plt.ylabel('Age')\n",
        "plt.show()\n",
        "\n",
        "\n"
      ],
      "metadata": {
        "colab": {
          "base_uri": "https://localhost:8080/",
          "height": 564
        },
        "id": "6sv_cq_9_z2X",
        "outputId": "7ce2ce74-3f61-43ea-bd91-5073df8ee8e7"
      },
      "execution_count": 28,
      "outputs": [
        {
          "output_type": "display_data",
          "data": {
            "text/plain": [
              "<Figure size 1200x600 with 1 Axes>"
            ],
            "image/png": "[encoded data removed]"
          },
          "metadata": {}
        }
      ]
    },
    {
      "cell_type": "markdown",
      "source": [
        "\n",
        "Interpretation:\n",
        "The graph demonstrates how the average age of customers varies throughout the week, segmented by gender.\n",
        "\n",
        "Possible insights from the graph:\n",
        "\n",
        "1. Gender Differences:\n",
        " - If there are significant differences in average age between genders on particular weekdays,\n",
        " - it could indicate varying preferences or patterns based on gender.\n",
        "\n",
        "2. Age Trends:\n",
        " - The trend in average age on different days can reveal insights into potential customer segments\n",
        " - that are more active on specific days of the week.\n",
        "\n",
        "3. Outliers:\n",
        " - Pay attention to any sharp spikes or dips in the lines, which could highlight unexpected trends or patterns.\n",
        "\n",
        "\n",
        "You can further analyze this graph by looking at specific weekdays and examining\n",
        " the average age differences between genders. This can help identify actionable insights."
      ],
      "metadata": {
        "id": "rpIrkZHjA3NP"
      }
    },
    {
      "cell_type": "markdown",
      "source": [
        "# Machine Learning Model implementation for fraud detection\n"
      ],
      "metadata": {
        "id": "ypLPY2nx-5jZ"
      }
    },
    {
      "cell_type": "code",
      "source": [
        "from sklearn.model_selection import train_test_split\n",
        "from sklearn.preprocessing import StandardScaler, OneHotEncoder\n",
        "from sklearn.compose import ColumnTransformer\n",
        "from sklearn.pipeline import Pipeline\n",
        "from sklearn.linear_model import LogisticRegression\n",
        "from sklearn.metrics import accuracy_score, classification_report, confusion_matrix\n",
        "import pandas as pd\n",
        "\n",
        "# Step 4: Feature Engineering and Selection\n",
        "# Assuming 'Fraud_Flag' is your target variable\n",
        "X = df.drop(['Fraud_Flag', 'Transaction_Date', 'Transaction_Time', 'Transaction_DateTime'], axis=1)\n",
        "y = df['Fraud_Flag']\n",
        "\n",
        "# Define categorical and numerical features\n",
        "categorical_features = ['Payment_Method', 'Merchant', 'Transaction_ID', 'User_ID']  # Include all object type columns\n",
        "numerical_features = X.select_dtypes(include=['number']).columns.tolist()  # Select numerical columns\n",
        "\n",
        "# Create a ColumnTransformer to apply different preprocessing to different columns\n",
        "preprocessor = ColumnTransformer(\n",
        "    transformers=[\n",
        "        ('num', StandardScaler(), numerical_features),  # Scale numerical features\n",
        "        ('cat', OneHotEncoder(sparse_output=False, handle_unknown='ignore'), categorical_features),  # One-hot encode categorical features\n",
        "    ])\n",
        "\n",
        "# Step 5: Model Selection and Training\n",
        "X_train, X_test, y_train, y_test = train_test_split(X, y, test_size=0.2, random_state=42)\n",
        "\n",
        "# Create a pipeline to combine preprocessing and model training\n",
        "pipeline = Pipeline([\n",
        "    ('preprocessor', preprocessor),\n",
        "    ('classifier', LogisticRegression()),\n",
        "])\n",
        "\n",
        "# Fit the pipeline to the training data\n",
        "pipeline.fit(X_train, y_train)\n",
        "\n",
        "# Step 6: Model Evaluation\n",
        "y_pred = pipeline.predict(X_test)\n",
        "\n",
        "# Evaluate the model\n",
        "print(\"Accuracy:\", accuracy_score(y_test, y_pred))\n",
        "print(\"\\nClassification Report:\\n\", classification_report(y_test, y_pred))\n",
        "print(\"\\nConfusion Matrix:\\n\", confusion_matrix(y_test, y_pred))\n",
        "\n",
        "# Step 7: Model Deployment and Monitoring (Optional)\n",
        "# You can deploy the trained model to predict fraud in real-time transactions.\n",
        "# Monitor the model's performance and retrain it as needed."
      ],
      "metadata": {
        "colab": {
          "base_uri": "https://localhost:8080/"
        },
        "id": "2xRnH03j3k3W",
        "outputId": "c311560a-deb1-4867-8a7b-b757c1bb2c9c"
      },
      "execution_count": null,
      "outputs": [
        {
          "output_type": "stream",
          "name": "stdout",
          "text": [
            "Accuracy: 0.97\n",
            "\n",
            "Classification Report:\n",
            "               precision    recall  f1-score   support\n",
            "\n",
            "       False       0.97      1.00      0.98        91\n",
            "        True       1.00      0.67      0.80         9\n",
            "\n",
            "    accuracy                           0.97       100\n",
            "   macro avg       0.98      0.83      0.89       100\n",
            "weighted avg       0.97      0.97      0.97       100\n",
            "\n",
            "\n",
            "Confusion Matrix:\n",
            " [[91  0]\n",
            " [ 3  6]]\n"
          ]
        }
      ]
    },
    {
      "cell_type": "markdown",
      "source": [
        "\n",
        "**Overall Performance:**\n",
        "\n",
        "* **Accuracy:**  The model achieved a certain level of accuracy (97%) . Accuracy is the overall proportion of correctly classified instances.\n",
        "* **Precision:** It tells us what proportion of predicted positive cases are truly positive. A high precision means that when the model predicts something as positive, it's likely to be correct.\n",
        "* **Recall (Sensitivity):** It tells us what proportion of actual positive cases are correctly identified by the model. A high recall means that the model is good at finding all the positive instances.\n",
        "* **F1-score:** It's the harmonic mean of precision and recall, providing a balanced measure of the model's performance. It is useful when there is an uneven class distribution.\n"
      ],
      "metadata": {
        "id": "FMB1JJTU69Vt"
      }
    },
    {
      "cell_type": "markdown",
      "source": [],
      "metadata": {
        "id": "O5qKBOhm5kAG"
      }
    }
  ]
}